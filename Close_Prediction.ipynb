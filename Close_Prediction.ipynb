{
 "cells": [
  {
   "cell_type": "markdown",
   "metadata": {},
   "source": [
    "<h2>数据游戏Round1：预测5月15日招商银行关盘时的股价</h2>"
   ]
  },
  {
   "cell_type": "markdown",
   "metadata": {},
   "source": [
    "导入相应的包并查看描述性统计以及数据的前后三行"
   ]
  },
  {
   "cell_type": "code",
   "execution_count": 1,
   "metadata": {},
   "outputs": [],
   "source": [
    "import tushare as ts\n",
    "import pandas as pd\n",
    "import numpy as np\n",
    "import matplotlib.pyplot as plt"
   ]
  },
  {
   "cell_type": "code",
   "execution_count": 2,
   "metadata": {},
   "outputs": [
    {
     "name": "stdout",
     "output_type": "stream",
     "text": [
      "(609, 13)\n"
     ]
    },
    {
     "data": {
      "text/html": [
       "<div>\n",
       "<style scoped>\n",
       "    .dataframe tbody tr th:only-of-type {\n",
       "        vertical-align: middle;\n",
       "    }\n",
       "\n",
       "    .dataframe tbody tr th {\n",
       "        vertical-align: top;\n",
       "    }\n",
       "\n",
       "    .dataframe thead th {\n",
       "        text-align: right;\n",
       "    }\n",
       "</style>\n",
       "<table border=\"1\" class=\"dataframe\">\n",
       "  <thead>\n",
       "    <tr style=\"text-align: right;\">\n",
       "      <th></th>\n",
       "      <th>open</th>\n",
       "      <th>high</th>\n",
       "      <th>close</th>\n",
       "      <th>low</th>\n",
       "      <th>volume</th>\n",
       "      <th>price_change</th>\n",
       "      <th>p_change</th>\n",
       "      <th>ma5</th>\n",
       "      <th>ma10</th>\n",
       "      <th>ma20</th>\n",
       "      <th>v_ma5</th>\n",
       "      <th>v_ma10</th>\n",
       "      <th>v_ma20</th>\n",
       "    </tr>\n",
       "  </thead>\n",
       "  <tbody>\n",
       "    <tr>\n",
       "      <th>count</th>\n",
       "      <td>609.000000</td>\n",
       "      <td>609.000000</td>\n",
       "      <td>609.000000</td>\n",
       "      <td>609.000000</td>\n",
       "      <td>6.090000e+02</td>\n",
       "      <td>609.000000</td>\n",
       "      <td>609.000000</td>\n",
       "      <td>609.000000</td>\n",
       "      <td>609.000000</td>\n",
       "      <td>609.000000</td>\n",
       "      <td>6.090000e+02</td>\n",
       "      <td>6.090000e+02</td>\n",
       "      <td>609.000000</td>\n",
       "    </tr>\n",
       "    <tr>\n",
       "      <th>mean</th>\n",
       "      <td>26.346585</td>\n",
       "      <td>26.722939</td>\n",
       "      <td>26.386535</td>\n",
       "      <td>26.036437</td>\n",
       "      <td>5.002776e+05</td>\n",
       "      <td>0.029672</td>\n",
       "      <td>0.133432</td>\n",
       "      <td>26.336668</td>\n",
       "      <td>26.271023</td>\n",
       "      <td>26.132926</td>\n",
       "      <td>4.994673e+05</td>\n",
       "      <td>4.976905e+05</td>\n",
       "      <td>495505.406289</td>\n",
       "    </tr>\n",
       "    <tr>\n",
       "      <th>std</th>\n",
       "      <td>4.753645</td>\n",
       "      <td>4.870090</td>\n",
       "      <td>4.763828</td>\n",
       "      <td>4.653217</td>\n",
       "      <td>2.415818e+05</td>\n",
       "      <td>0.488736</td>\n",
       "      <td>1.750840</td>\n",
       "      <td>4.751646</td>\n",
       "      <td>4.734656</td>\n",
       "      <td>4.687829</td>\n",
       "      <td>1.848594e+05</td>\n",
       "      <td>1.656262e+05</td>\n",
       "      <td>150928.840617</td>\n",
       "    </tr>\n",
       "    <tr>\n",
       "      <th>min</th>\n",
       "      <td>17.530000</td>\n",
       "      <td>17.610000</td>\n",
       "      <td>17.490000</td>\n",
       "      <td>17.390000</td>\n",
       "      <td>1.009080e+05</td>\n",
       "      <td>-2.240000</td>\n",
       "      <td>-6.470000</td>\n",
       "      <td>17.634000</td>\n",
       "      <td>17.705000</td>\n",
       "      <td>17.869000</td>\n",
       "      <td>1.460539e+05</td>\n",
       "      <td>2.015588e+05</td>\n",
       "      <td>216380.080000</td>\n",
       "    </tr>\n",
       "    <tr>\n",
       "      <th>25%</th>\n",
       "      <td>22.980000</td>\n",
       "      <td>23.580000</td>\n",
       "      <td>23.030000</td>\n",
       "      <td>22.730000</td>\n",
       "      <td>3.276475e+05</td>\n",
       "      <td>-0.220000</td>\n",
       "      <td>-0.870000</td>\n",
       "      <td>22.700000</td>\n",
       "      <td>22.458000</td>\n",
       "      <td>22.131000</td>\n",
       "      <td>3.669532e+05</td>\n",
       "      <td>3.805330e+05</td>\n",
       "      <td>389129.980000</td>\n",
       "    </tr>\n",
       "    <tr>\n",
       "      <th>50%</th>\n",
       "      <td>27.650000</td>\n",
       "      <td>28.090000</td>\n",
       "      <td>27.660000</td>\n",
       "      <td>27.200000</td>\n",
       "      <td>4.493472e+05</td>\n",
       "      <td>0.010000</td>\n",
       "      <td>0.050000</td>\n",
       "      <td>27.632000</td>\n",
       "      <td>27.558000</td>\n",
       "      <td>27.521000</td>\n",
       "      <td>4.651292e+05</td>\n",
       "      <td>4.687378e+05</td>\n",
       "      <td>464215.570000</td>\n",
       "    </tr>\n",
       "    <tr>\n",
       "      <th>75%</th>\n",
       "      <td>29.450000</td>\n",
       "      <td>29.890000</td>\n",
       "      <td>29.500000</td>\n",
       "      <td>29.000000</td>\n",
       "      <td>6.258211e+05</td>\n",
       "      <td>0.290000</td>\n",
       "      <td>1.120000</td>\n",
       "      <td>29.350000</td>\n",
       "      <td>29.310000</td>\n",
       "      <td>29.174000</td>\n",
       "      <td>6.104938e+05</td>\n",
       "      <td>6.074965e+05</td>\n",
       "      <td>609243.550000</td>\n",
       "    </tr>\n",
       "    <tr>\n",
       "      <th>max</th>\n",
       "      <td>35.900000</td>\n",
       "      <td>36.480000</td>\n",
       "      <td>36.000000</td>\n",
       "      <td>35.650000</td>\n",
       "      <td>1.551975e+06</td>\n",
       "      <td>1.890000</td>\n",
       "      <td>6.950000</td>\n",
       "      <td>35.630000</td>\n",
       "      <td>35.428000</td>\n",
       "      <td>35.224000</td>\n",
       "      <td>1.238826e+06</td>\n",
       "      <td>1.024262e+06</td>\n",
       "      <td>890276.620000</td>\n",
       "    </tr>\n",
       "  </tbody>\n",
       "</table>\n",
       "</div>"
      ],
      "text/plain": [
       "             open        high       close         low        volume  \\\n",
       "count  609.000000  609.000000  609.000000  609.000000  6.090000e+02   \n",
       "mean    26.346585   26.722939   26.386535   26.036437  5.002776e+05   \n",
       "std      4.753645    4.870090    4.763828    4.653217  2.415818e+05   \n",
       "min     17.530000   17.610000   17.490000   17.390000  1.009080e+05   \n",
       "25%     22.980000   23.580000   23.030000   22.730000  3.276475e+05   \n",
       "50%     27.650000   28.090000   27.660000   27.200000  4.493472e+05   \n",
       "75%     29.450000   29.890000   29.500000   29.000000  6.258211e+05   \n",
       "max     35.900000   36.480000   36.000000   35.650000  1.551975e+06   \n",
       "\n",
       "       price_change    p_change         ma5        ma10        ma20  \\\n",
       "count    609.000000  609.000000  609.000000  609.000000  609.000000   \n",
       "mean       0.029672    0.133432   26.336668   26.271023   26.132926   \n",
       "std        0.488736    1.750840    4.751646    4.734656    4.687829   \n",
       "min       -2.240000   -6.470000   17.634000   17.705000   17.869000   \n",
       "25%       -0.220000   -0.870000   22.700000   22.458000   22.131000   \n",
       "50%        0.010000    0.050000   27.632000   27.558000   27.521000   \n",
       "75%        0.290000    1.120000   29.350000   29.310000   29.174000   \n",
       "max        1.890000    6.950000   35.630000   35.428000   35.224000   \n",
       "\n",
       "              v_ma5        v_ma10         v_ma20  \n",
       "count  6.090000e+02  6.090000e+02     609.000000  \n",
       "mean   4.994673e+05  4.976905e+05  495505.406289  \n",
       "std    1.848594e+05  1.656262e+05  150928.840617  \n",
       "min    1.460539e+05  2.015588e+05  216380.080000  \n",
       "25%    3.669532e+05  3.805330e+05  389129.980000  \n",
       "50%    4.651292e+05  4.687378e+05  464215.570000  \n",
       "75%    6.104938e+05  6.074965e+05  609243.550000  \n",
       "max    1.238826e+06  1.024262e+06  890276.620000  "
      ]
     },
     "execution_count": 2,
     "metadata": {},
     "output_type": "execute_result"
    }
   ],
   "source": [
    "data = ts.get_hist_data('600036')\n",
    "print(data.shape)\n",
    "data.describe()"
   ]
  },
  {
   "cell_type": "markdown",
   "metadata": {},
   "source": [
    "这里我们只取几个关键特征"
   ]
  },
  {
   "cell_type": "code",
   "execution_count": 3,
   "metadata": {},
   "outputs": [
    {
     "data": {
      "text/plain": [
       "(             open   high    low    ma5  close\n",
       " date                                         \n",
       " 2016-11-09  18.00  18.08  17.77  17.89  17.89\n",
       " 2016-11-10  17.95  18.11  17.94  17.94  17.99\n",
       " 2016-11-11  17.95  18.08  17.93  17.97  18.03,\n",
       "              open   high    low     ma5  close\n",
       " date                                          \n",
       " 2019-05-08  33.30  33.58  33.00  34.106  33.13\n",
       " 2019-05-09  33.00  33.25  32.02  33.524  32.42\n",
       " 2019-05-10  32.86  33.80  32.86  33.330  33.48)"
      ]
     },
     "execution_count": 3,
     "metadata": {},
     "output_type": "execute_result"
    }
   ],
   "source": [
    "data1 = data[::-1][['open','high','low','ma5','close']]\n",
    "data1.head(3), data1.tail(3)"
   ]
  },
  {
   "cell_type": "markdown",
   "metadata": {},
   "source": [
    "导入 sklearn 中相应的模块，这里我们用的是岭回归"
   ]
  },
  {
   "cell_type": "code",
   "execution_count": 4,
   "metadata": {},
   "outputs": [],
   "source": [
    "from sklearn.linear_model import Ridge\n",
    "from sklearn.externals import joblib\n",
    "from sklearn.model_selection import cross_val_score"
   ]
  },
  {
   "cell_type": "code",
   "execution_count": 5,
   "metadata": {},
   "outputs": [],
   "source": [
    "ridge = Ridge()"
   ]
  },
  {
   "cell_type": "markdown",
   "metadata": {},
   "source": [
    "由于预测的是三天后的股价，那还需要 5月13、14号 的数据信息才能进行预测，因此先预测这两天的信息。"
   ]
  },
  {
   "cell_type": "markdown",
   "metadata": {},
   "source": [
    "先设置一下训练集"
   ]
  },
  {
   "cell_type": "code",
   "execution_count": 6,
   "metadata": {},
   "outputs": [],
   "source": [
    "y_train = data1['close'].values[1:]\n",
    "X_train = data1.values[:-1]"
   ]
  },
  {
   "cell_type": "markdown",
   "metadata": {},
   "source": [
    "我们用这组训练集做一下评估"
   ]
  },
  {
   "cell_type": "code",
   "execution_count": 7,
   "metadata": {},
   "outputs": [],
   "source": [
    "def get_score(X_train, y_train):\n",
    "    ridge_score = np.sqrt(-cross_val_score(ridge, X_train, y_train, cv=10, scoring='neg_mean_squared_error'))\n",
    "    return np.mean(ridge_score)"
   ]
  },
  {
   "cell_type": "code",
   "execution_count": 8,
   "metadata": {},
   "outputs": [
    {
     "data": {
      "text/plain": [
       "0.4692812762015096"
      ]
     },
     "execution_count": 8,
     "metadata": {},
     "output_type": "execute_result"
    }
   ],
   "source": [
    "get_score(X_train, y_train)"
   ]
  },
  {
   "cell_type": "markdown",
   "metadata": {},
   "source": [
    "发现有0.469左右的错误率，这个错误率就很大了，不太合理，更何况还要预测其他特征值作为测试数据，那错误率就有点高了。因此，换一下训练集再做一下尝试。"
   ]
  },
  {
   "cell_type": "code",
   "execution_count": 9,
   "metadata": {},
   "outputs": [],
   "source": [
    "data2 = data1[:]\n",
    "y_train = data2.pop('close').values\n",
    "X_train = data2.values"
   ]
  },
  {
   "cell_type": "code",
   "execution_count": 10,
   "metadata": {},
   "outputs": [
    {
     "data": {
      "text/plain": [
       "0.18341941541272766"
      ]
     },
     "execution_count": 10,
     "metadata": {},
     "output_type": "execute_result"
    }
   ],
   "source": [
    "get_score(X_train, y_train)"
   ]
  },
  {
   "cell_type": "markdown",
   "metadata": {},
   "source": [
    "这次是把当天除了“close”以外的数据当作X_train，当天的“close”作为y_train，发现错误率少了很多。因此我们可以先预测一下三天的除“close”以外的数据，然后根据这些数据预测那三天当天的close值。"
   ]
  },
  {
   "cell_type": "code",
   "execution_count": 11,
   "metadata": {},
   "outputs": [],
   "source": [
    "def get_model(s):\n",
    "    y_train = data1[s].values[1:]\n",
    "    X_train = data1.values[:-1]\n",
    "    model = ridge.fit(X_train, y_train)\n",
    "    return model"
   ]
  },
  {
   "cell_type": "code",
   "execution_count": 12,
   "metadata": {},
   "outputs": [],
   "source": [
    "X_test = data1[-1:].values"
   ]
  },
  {
   "cell_type": "code",
   "execution_count": 13,
   "metadata": {},
   "outputs": [],
   "source": [
    "def get_results(X_test):\n",
    "    attrs = ['open', 'high', 'low', 'ma5']\n",
    "    results = []\n",
    "    for attr in attrs:\n",
    "        result = get_model(attr).predict(X_test)\n",
    "        results.append(result)\n",
    "    return results"
   ]
  },
  {
   "cell_type": "code",
   "execution_count": 14,
   "metadata": {},
   "outputs": [],
   "source": [
    "def get_close_model():\n",
    "    y_train = data1['close']\n",
    "    X_train = data1[['open', 'high', 'low', 'ma5']]\n",
    "    close_model = ridge.fit(X_train, y_train)\n",
    "    joblib.dump(ridge, 'close_model.m')"
   ]
  },
  {
   "cell_type": "code",
   "execution_count": 15,
   "metadata": {},
   "outputs": [],
   "source": [
    "get_close_model()\n",
    "close_model = joblib.load('close_model.m')"
   ]
  },
  {
   "cell_type": "markdown",
   "metadata": {},
   "source": [
    "在预测之前呢，我们先拿训练集的后8组数据做一下测试，做个图看看，比较拟合的话就当作心理安慰，不太拟合的话...我也不知道怎么办了[Faceplam]"
   ]
  },
  {
   "cell_type": "code",
   "execution_count": 16,
   "metadata": {},
   "outputs": [
    {
     "name": "stdout",
     "output_type": "stream",
     "text": [
      "[array([34.56429711]), array([35.37160607]), array([34.32913151]), array([33.74837173]), array([33.58057848]), array([33.34347361]), array([32.52914614]), array([33.57743733])]\n"
     ]
    },
    {
     "data": {
      "text/plain": [
       "([<matplotlib.axis.XTick at 0xccf9030>,\n",
       "  <matplotlib.axis.XTick at 0xccf9950>,\n",
       "  <matplotlib.axis.XTick at 0xccf9110>,\n",
       "  <matplotlib.axis.XTick at 0xccfa510>,\n",
       "  <matplotlib.axis.XTick at 0xccfa250>,\n",
       "  <matplotlib.axis.XTick at 0xccfa830>,\n",
       "  <matplotlib.axis.XTick at 0xccfa030>,\n",
       "  <matplotlib.axis.XTick at 0xccfaf90>],\n",
       " <a list of 8 Text xticklabel objects>)"
      ]
     },
     "execution_count": 16,
     "metadata": {},
     "output_type": "execute_result"
    },
    {
     "data": {
      "image/png": "[encoded data removed]",
      "text/plain": [
       "<Figure size 936x432 with 1 Axes>"
      ]
     },
     "metadata": {},
     "output_type": "display_data"
    }
   ],
   "source": [
    "scores = []\n",
    "for x in X_train[-8:]:\n",
    "    score = close_model.predict(np.array(x).reshape(1, -1))\n",
    "    scores.append(score)\n",
    "print(scores)\n",
    "x = np.arange(8)\n",
    "fig, axes = plt.subplots(1, 1, figsize=(13, 6))\n",
    "axes.plot(scores)\n",
    "axes.plot(y_train[-8:])\n",
    "plt.xticks(x, data1.index[-8:].values, size=13, rotation=0)"
   ]
  },
  {
   "cell_type": "markdown",
   "metadata": {},
   "source": [
    "看到这样子我还是相对比较放心的，不过，这里面的除了“close”以外的特征值都是已知的..."
   ]
  },
  {
   "cell_type": "code",
   "execution_count": 17,
   "metadata": {},
   "outputs": [
    {
     "name": "stdout",
     "output_type": "stream",
     "text": [
      "[33.46370029]\n",
      "[33.4532047]\n",
      "[33.43836721]\n",
      "5月15日招商银行关盘时的股价为：33.44\n"
     ]
    }
   ],
   "source": [
    "for i in range(3):\n",
    "    results = get_results(X_test)\n",
    "    close = close_model.predict(np.array(results).reshape(1, -1))\n",
    "    print(close)\n",
    "    results.append(close)\n",
    "    X_test = np.array(results).reshape(1, -1)\n",
    "print(\"5月15日招商银行关盘时的股价为：\" + str(round(close[0], 2)))"
   ]
  },
  {
   "cell_type": "markdown",
   "metadata": {},
   "source": [
    "虽然预测结果是这样子，但感觉应该还是差了很多啊。毕竟预测的每个特征值都会有偏差，多个特征的偏差累加起来就很多了，这让我有点害怕。不知道存不存在不预测其他特征值的方法，或者说直接预测5月15号的而不用先预测13、14号的方法。希望哪位大神看了能给我一些建议，指点迷津。这次数据游戏还不错，对于没项目可做的新手来说也算一次经历，而且也学到了一点东西。"
   ]
  }
 ],
 "metadata": {
  "kernelspec": {
   "display_name": "Python 3",
   "language": "python",
   "name": "python3"
  },
  "language_info": {
   "codemirror_mode": {
    "name": "ipython",
    "version": 3
   },
   "file_extension": ".py",
   "mimetype": "text/x-python",
   "name": "python",
   "nbconvert_exporter": "python",
   "pygments_lexer": "ipython3",
   "version": "3.6.4"
  }
 },
 "nbformat": 4,
 "nbformat_minor": 2
}
